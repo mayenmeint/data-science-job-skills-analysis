{
 "cells": [
  {
   "cell_type": "markdown",
   "id": "a8b619af",
   "metadata": {},
   "source": [
    "# Data Science Jobs - API Scraping Notebook\n",
    "\n",
    "## Project: Data Science Job Market Analysis\n",
    "**Author:** Mayenmein Terence Sama Aloah Jr\n",
    "**Date:** 09/23/2025  \n",
    "**Description:** This notebook handles the API-based scraping of data science job postings from Found.dev API."
   ]
  },
  {
   "cell_type": "code",
   "execution_count": 4,
   "id": "2f5552ee",
   "metadata": {},
   "outputs": [
    {
     "name": "stdout",
     "output_type": "stream",
     "text": [
      "Libraries imported successfully!\n"
     ]
    }
   ],
   "source": [
    "import sys\n",
    "import os\n",
    "from pathlib import Path\n",
    "import pandas as pd\n",
    "import numpy as np\n",
    "import requests\n",
    "import time\n",
    "from datetime import datetime\n",
    "import json\n",
    "# Add src to path\n",
    "sys.path.insert(0, '..')\n",
    "print(\"Libraries imported successfully!\")"
   ]
  },
  {
   "cell_type": "markdown",
   "id": "69b11aa0",
   "metadata": {},
   "source": [
    "## 1. Project Setup and Configuration\n",
    "Configure paths and import the scraping module."
   ]
  },
  {
   "cell_type": "code",
   "execution_count": 5,
   "id": "368896bb",
   "metadata": {},
   "outputs": [
    {
     "name": "stdout",
     "output_type": "stream",
     "text": [
      "📁 Data will be saved to: c:\\Users\\MARIE\\Desktop\\scrape job details\\notebooks\\..\\data\\raw\n"
     ]
    }
   ],
   "source": [
    "# Configuration\n",
    "DATA_RAW_PATH = Path('../data/raw')\n",
    "\n",
    "# Create directories if they don't exist\n",
    "DATA_RAW_PATH.mkdir(parents=True, exist_ok=True)\n",
    "\n",
    "print(f\"📁 Data will be saved to: {DATA_RAW_PATH.absolute()}\")"
   ]
  },
  {
   "cell_type": "code",
   "execution_count": 6,
   "id": "22a5d47e",
   "metadata": {},
   "outputs": [
    {
     "name": "stdout",
     "output_type": "stream",
     "text": [
      "✅ Custom scraping modules imported successfully!\n"
     ]
    }
   ],
   "source": [
    "# Import the scraping function\n",
    "try:\n",
    "    from scr.scraping.scrape_jobs import scrape_in_batches, fetch_jobs\n",
    "    print(\"✅ Custom scraping modules imported successfully!\")\n",
    "except ImportError as e:\n",
    "    print(f\"❌ Error importing custom modules: {e}\")    "
   ]
  },
  {
   "cell_type": "markdown",
   "id": "7430518e",
   "metadata": {},
   "source": [
    "## 2. API Connection Test\n",
    "Test the API connection with a single page request."
   ]
  },
  {
   "cell_type": "code",
   "execution_count": null,
   "id": "9d115df8",
   "metadata": {},
   "outputs": [],
   "source": [
    "# Test API connection\n",
    "print(\"🧪 Testing API connection...\")\n",
    "\n",
    "try:\n",
    "    test_data = fetch_jobs(page=1, skill=\"Data Science\", ai=True)\n",
    "    jobs_count = len(test_data.get(\"jobs\", []))\n",
    "    print(f\"✅ API connection successful! Found {jobs_count} jobs on page 1\")\n",
    "    \n",
    "    # Display sample job structure\n",
    "    if jobs_count > 0:\n",
    "        sample_job = test_data[\"jobs\"][0]\n",
    "        print(\"\\n📋 Sample job structure:\")\n",
    "        print(json.dumps(sample_job, indent=2)[:500] + \"...\")\n",
    "        \n",
    "except Exception as e:\n",
    "    print(f\"❌ API test failed: {e}\")"
   ]
  },
  {
   "cell_type": "markdown",
   "id": "cf3c9477",
   "metadata": {},
   "source": [
    "## 3. Scraping Parameters Configuration\n",
    "Configure the scraping parameters for the batch process."
   ]
  },
  {
   "cell_type": "code",
   "execution_count": null,
   "id": "573fe22c",
   "metadata": {},
   "outputs": [],
   "source": [
    "# Scraping configuration\n",
    "SCRAPING_CONFIG = {\n",
    "    \"skill\": \"Data Science\",\n",
    "    \"pages_per_batch\": 20,\n",
    "    \"ai\": True,\n",
    "    \"delay\": 1,\n",
    "    \"start_page\": 41,\n",
    "    \"start_batch\": 3\n",
    "}\n",
    "\n",
    "print(\"⚙️  Scraping Configuration:\")\n",
    "for key, value in SCRAPING_CONFIG.items():\n",
    "    print(f\"   {key}: {value}\")"
   ]
  }
 ],
 "metadata": {
  "kernelspec": {
   "display_name": "Python 3",
   "language": "python",
   "name": "python3"
  },
  "language_info": {
   "codemirror_mode": {
    "name": "ipython",
    "version": 3
   },
   "file_extension": ".py",
   "mimetype": "text/x-python",
   "name": "python",
   "nbconvert_exporter": "python",
   "pygments_lexer": "ipython3",
   "version": "3.12.3"
  }
 },
 "nbformat": 4,
 "nbformat_minor": 5
}

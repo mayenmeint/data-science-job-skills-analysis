{
 "cells": [
  {
   "cell_type": "markdown",
   "id": "da87b04f",
   "metadata": {},
   "source": [
    "# Deep Dive into Skill Correlations"
   ]
  },
  {
   "cell_type": "code",
   "execution_count": 1,
   "id": "1109732d",
   "metadata": {},
   "outputs": [],
   "source": [
    "# Import libraries and modules\n",
    "import pandas as pd\n",
    "import numpy as np\n",
    "import matplotlib.pyplot as plt\n",
    "import seaborn as sns"
   ]
  },
  {
   "cell_type": "code",
   "execution_count": 2,
   "id": "f47f437e",
   "metadata": {},
   "outputs": [],
   "source": [
    "from scr.correlation_analysis import (\n",
    "create_skill_cooccurrence_matrix,\n",
    "calculate_statistical_correlations,\n",
    "analyze_skill_associations,\n",
    "get_significant_correlations\n",
    ")\n",
    "from scr.skill_analysis import analyze_skill_frequency"
   ]
  },
  {
   "cell_type": "code",
   "execution_count": 3,
   "id": "6939d126",
   "metadata": {},
   "outputs": [
    {
     "name": "stdout",
     "output_type": "stream",
     "text": [
      "Loaded data shape: (523, 8)\n"
     ]
    }
   ],
   "source": [
    "# Load analyzed data\n",
    "df = pd.read_csv('data/processed/cleaned_job_data.csv')\n",
    "print(f\"Loaded data shape: {df.shape}\")"
   ]
  },
  {
   "cell_type": "code",
   "execution_count": 4,
   "id": "7d730515",
   "metadata": {},
   "outputs": [
    {
     "name": "stdout",
     "output_type": "stream",
     "text": [
      "Creating skill co-occurrence matrix...\n",
      "Co-occurrence matrix shape: (69, 69)\n",
      "\n",
      "Top co-occurrences for 'python':\n",
      "sql                135\n",
      "machinelearning    134\n",
      "pytorch             92\n",
      "spark               71\n",
      "airflow             67\n",
      "r                   51\n",
      "aws                 49\n",
      "java                42\n",
      "etl                 40\n",
      "llm                 39\n",
      "Name: python, dtype: int64\n"
     ]
    }
   ],
   "source": [
    "# Create co-occurrence matrix\n",
    "print(\"Creating skill co-occurrence matrix...\")\n",
    "cooccurrence_matrix = create_skill_cooccurrence_matrix(df, 'skills')\n",
    "print(\"Co-occurrence matrix shape:\", cooccurrence_matrix.shape)\n",
    "print(\"\\nTop co-occurrences for 'python':\")\n",
    "print(cooccurrence_matrix['python'].sort_values(ascending=False).head(10))"
   ]
  },
  {
   "cell_type": "code",
   "execution_count": 5,
   "id": "11659a33",
   "metadata": {},
   "outputs": [
    {
     "name": "stdout",
     "output_type": "stream",
     "text": [
      "\n",
      "Analyzing Python skill associations...\n",
      "Top skills associated with Python:\n",
      "             skill  cooccurrence_count  association_ratio  lift_score  \\\n",
      "0              sql                 135              0.553       1.499   \n",
      "1  machinelearning                 134              0.549       1.068   \n",
      "2          pytorch                  92              0.377       3.130   \n",
      "3            spark                  71              0.291       1.553   \n",
      "4          airflow                  67              0.275       1.890   \n",
      "5                r                  51              0.209       1.885   \n",
      "6              aws                  49              0.201       1.364   \n",
      "7             java                  42              0.172       1.608   \n",
      "8              etl                  40              0.164       1.453   \n",
      "9              llm                  39              0.160       1.086   \n",
      "\n",
      "   skill_frequency  target_skill_frequency  cooccurrence_percentage  \n",
      "0              193                     244                55.327869  \n",
      "1              269                     244                54.918033  \n",
      "2               63                     244                37.704918  \n",
      "3               98                     244                29.098361  \n",
      "4               76                     244                27.459016  \n",
      "5               58                     244                20.901639  \n",
      "6               77                     244                20.081967  \n",
      "7               56                     244                17.213115  \n",
      "8               59                     244                16.393443  \n",
      "9               77                     244                15.983607  \n"
     ]
    }
   ],
   "source": [
    "# Analyze Python associations\n",
    "print(\"\\nAnalyzing Python skill associations...\")\n",
    "python_associations = analyze_skill_associations(df, 'python', 'skills')\n",
    "print(\"Top skills associated with Python:\")\n",
    "print(python_associations.head(10))"
   ]
  },
  {
   "cell_type": "code",
   "execution_count": 6,
   "id": "d5b22a9b",
   "metadata": {},
   "outputs": [
    {
     "name": "stdout",
     "output_type": "stream",
     "text": [
      "\n",
      "Calculating statistical correlations...\n",
      "Correlation matrix shape: (69, 69)\n"
     ]
    }
   ],
   "source": [
    "# Calculate statistical correlations\n",
    "print(\"\\nCalculating statistical correlations...\")\n",
    "corr_matrix, pvalue_matrix = calculate_statistical_correlations(df, 'skills')\n",
    "print(\"Correlation matrix shape:\", corr_matrix.shape)"
   ]
  },
  {
   "cell_type": "code",
   "execution_count": 7,
   "id": "149ac8a7",
   "metadata": {},
   "outputs": [
    {
     "name": "stdout",
     "output_type": "stream",
     "text": [
      "\n",
      "Finding significant correlations...\n",
      "Found 182 significant correlations\n",
      "\n",
      "Top significant correlations:\n",
      "         skill1      skill2  correlation        p_value  abs_correlation\n",
      "180  tensorflow     pytorch     0.907184  4.940374e-198         0.907184\n",
      "133     pytorch  tensorflow     0.907184  4.940374e-198         0.907184\n",
      "103  matplotlib      plotly     0.893565  2.392679e-183         0.893565\n",
      "122      plotly  matplotlib     0.893565  2.392679e-183         0.893565\n",
      "126  postgresql       mysql     0.718641   3.049225e-84         0.718641\n",
      "109       mysql  postgresql     0.718641   3.049225e-84         0.718641\n",
      "175     tableau      looker     0.675270   6.893832e-71         0.675270\n",
      "98       looker     tableau     0.675270   6.893832e-71         0.675270\n",
      "139       redis     mongodb     0.586345   1.292369e-49         0.586345\n",
      "107     mongodb       redis     0.586345   1.292369e-49         0.586345\n"
     ]
    }
   ],
   "source": [
    "# Get significant correlations\n",
    "print(\"\\nFinding significant correlations...\")\n",
    "significant_corrs = get_significant_correlations(\n",
    "corr_matrix,\n",
    "pvalue_matrix,\n",
    "correlation_threshold=0.3,\n",
    "pvalue_threshold=0.05\n",
    ")\n",
    "print(f\"Found {len(significant_corrs)} significant correlations\")\n",
    "print(\"\\nTop significant correlations:\")\n",
    "print(significant_corrs.head(10))"
   ]
  },
  {
   "cell_type": "code",
   "execution_count": 8,
   "id": "faea44f3",
   "metadata": {},
   "outputs": [
    {
     "name": "stdout",
     "output_type": "stream",
     "text": [
      "\n",
      "Analyzing associations for multiple skills: ['python', 'sql', 'machine learning', 'aws']\n",
      "\n",
      "Top associations for python:\n",
      "             skill  cooccurrence_count  association_ratio  lift_score  \\\n",
      "0              sql                 135              0.553       1.499   \n",
      "1  machinelearning                 134              0.549       1.068   \n",
      "2          pytorch                  92              0.377       3.130   \n",
      "3            spark                  71              0.291       1.553   \n",
      "4          airflow                  67              0.275       1.890   \n",
      "\n",
      "   skill_frequency  target_skill_frequency  cooccurrence_percentage  \n",
      "0              193                     244                55.327869  \n",
      "1              269                     244                54.918033  \n",
      "2               63                     244                37.704918  \n",
      "3               98                     244                29.098361  \n",
      "4               76                     244                27.459016  \n",
      "\n",
      "Top associations for sql:\n",
      "             skill  cooccurrence_count  association_ratio  lift_score  \\\n",
      "0           python                 135              0.699       1.499   \n",
      "1  machinelearning                  83              0.430       0.836   \n",
      "2          tableau                  51              0.264       2.383   \n",
      "3              etl                  50              0.259       2.296   \n",
      "4          airflow                  49              0.254       1.747   \n",
      "\n",
      "   skill_frequency  target_skill_frequency  cooccurrence_percentage  \n",
      "0              244                     193                69.948187  \n",
      "1              269                     193                43.005181  \n",
      "2               58                     193                26.424870  \n",
      "3               59                     193                25.906736  \n",
      "4               76                     193                25.388601  \n",
      "Warning: Target skill 'machine learning' not found in data\n",
      "\n",
      "Top associations for machine learning:\n",
      "Empty DataFrame\n",
      "Columns: []\n",
      "Index: []\n",
      "\n",
      "Top associations for aws:\n",
      "    skill  cooccurrence_count  association_ratio  lift_score  skill_frequency  \\\n",
      "0  python                  49              0.636       1.364              244   \n",
      "1     sql                  36              0.468       1.267              193   \n",
      "2   azure                  32              0.416       5.301               41   \n",
      "3     gcp                  32              0.416       5.175               42   \n",
      "4   spark                  27              0.351       1.871               98   \n",
      "\n",
      "   target_skill_frequency  cooccurrence_percentage  \n",
      "0                      77                63.636364  \n",
      "1                      77                46.753247  \n",
      "2                      77                41.558442  \n",
      "3                      77                41.558442  \n",
      "4                      77                35.064935  \n"
     ]
    }
   ],
   "source": [
    "# Analyze multiple target skills\n",
    "target_skills = ['python', 'sql', 'machine learning', 'aws']\n",
    "print(f\"\\nAnalyzing associations for multiple skills: {target_skills}\")\n",
    "\n",
    "associations_results = {}\n",
    "for skill in target_skills:\n",
    "    associations = analyze_skill_associations(df, skill, 'skills')\n",
    "    associations_results[skill] = associations.head(8)\n",
    "    print(f\"\\nTop associations for {skill}:\")\n",
    "    print(associations.head(5))"
   ]
  },
  {
   "cell_type": "code",
   "execution_count": null,
   "id": "99331572",
   "metadata": {},
   "outputs": [
    {
     "name": "stdout",
     "output_type": "stream",
     "text": [
      "\n",
      "Correlation results saved to data/processed/\n"
     ]
    }
   ],
   "source": [
    "\"\"\"# Save correlation results\n",
    "significant_corrs.to_csv('data/processed/significant_correlations.csv', index=False)\n",
    "python_associations.to_csv('data/processed/python_associations.csv', index=False)\n",
    "print(\"\\nCorrelation results saved to data/processed/\")\"\"\""
   ]
  }
 ],
 "metadata": {
  "kernelspec": {
   "display_name": "Python 3",
   "language": "python",
   "name": "python3"
  },
  "language_info": {
   "codemirror_mode": {
    "name": "ipython",
    "version": 3
   },
   "file_extension": ".py",
   "mimetype": "text/x-python",
   "name": "python",
   "nbconvert_exporter": "python",
   "pygments_lexer": "ipython3",
   "version": "3.12.3"
  }
 },
 "nbformat": 4,
 "nbformat_minor": 5
}
